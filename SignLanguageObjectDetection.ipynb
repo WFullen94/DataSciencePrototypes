{
 "cells": [
  {
   "cell_type": "markdown",
   "metadata": {},
   "source": [
    "### Overview\n",
    "\n",
    "This is a personal project I undertook to detect american sign language in images. I downloaded images from https://public.roboflow.com/object-detection/american-sign-language-letters/1/download/yolov5pytorch for this notebook\n"
   ]
  },
  {
   "cell_type": "code",
   "execution_count": 113,
   "metadata": {
    "scrolled": false
   },
   "outputs": [],
   "source": [
    "import os\n",
    "import numpy as np\n",
    "import torch\n",
    "from PIL import Image\n",
    "import pandas as pd\n",
    "import cv2\n",
    "from pathlib import Path\n",
    "from sklearn.model_selection import train_test_split\n",
    "\n",
    "import torch\n",
    "from torch.utils.data import Dataset, DataLoader\n",
    "import torch.optim as optim\n",
    "import torch.nn as nn\n",
    "import torch.nn.functional as F\n",
    "from torchvision import models\n",
    "from torchvision.io import read_image\n",
    "import matplotlib.pyplot as plt\n",
    "from torchvision.transforms import ToTensor\n"
   ]
  },
  {
   "cell_type": "code",
   "execution_count": 115,
   "metadata": {},
   "outputs": [
    {
     "data": {
      "text/plain": [
       "True"
      ]
     },
     "execution_count": 115,
     "metadata": {},
     "output_type": "execute_result"
    }
   ],
   "source": [
    "# confirm that the CUDA is available\n",
    "torch.cuda.is_available()"
   ]
  },
  {
   "cell_type": "markdown",
   "metadata": {},
   "source": [
    "Helper functions for generating the pandas DF and resizing images to the same size."
   ]
  },
  {
   "cell_type": "code",
   "execution_count": 117,
   "metadata": {},
   "outputs": [],
   "source": [
    "def list_files(root, file_type):\n",
    "    return [os.path.join(directory_path, f) for directory_path, directory_name, \n",
    "            files in os.walk(root) for f in files if f.endswith(file_type)]\n",
    "\n",
    "def get_image_sizes(file_list):\n",
    "    heights = []\n",
    "    widths = []\n",
    "    \n",
    "    for file in file_list:\n",
    "        height, width, _ = cv2.imread(file).shape\n",
    "        heights.append(height)\n",
    "        widths.append(width)\n",
    "        \n",
    "    return heights, widths\n",
    "\n",
    "def resize_images(image_list, size, save_dir):\n",
    "    for image in image_list:\n",
    "        img = cv2.imread(image)\n",
    "        img_resized = cv2.resize(img, (size, size))\n",
    "        \n",
    "        new_path = save_dir+image.split(\"/\")[-1]\n",
    "        cv2.imwrite(new_path, img_resized)\n"
   ]
  },
  {
   "cell_type": "code",
   "execution_count": 119,
   "metadata": {},
   "outputs": [],
   "source": [
    "train_dir = \"./data/ASL/train/labels\"\n",
    "file_path = \"txt\"\n",
    "\n",
    "training_list = []\n",
    "\n",
    "files = list_files(train_dir, file_path)\n",
    "for file in files:\n",
    "    f = open(file, \"r\")\n",
    "    target_class, x_min, y_min, x_max, y_max = f.read().split(\" \")\n",
    "    training_list.append([file, target_class, x_min, y_min, x_max, y_max])\n",
    "    \n",
    "image_dir = \"./data/ASL/train/images/\"\n",
    "file_path = \"jpg\"\n",
    "\n",
    "image_files = list_files(image_dir, file_path)\n",
    "heights, widths = get_image_sizes(image_files)"
   ]
  },
  {
   "cell_type": "code",
   "execution_count": 120,
   "metadata": {},
   "outputs": [],
   "source": [
    "img_size = max(heights)"
   ]
  },
  {
   "cell_type": "code",
   "execution_count": 121,
   "metadata": {},
   "outputs": [],
   "source": [
    "resized_image_dir = \"./data/ASL/train/resized_images\"\n",
    "resize_images(image_files, img_size, resized_image_dir)"
   ]
  },
  {
   "cell_type": "code",
   "execution_count": 122,
   "metadata": {},
   "outputs": [],
   "source": [
    "resized_image_files = list_files(resized_image_dir, file_path)"
   ]
  },
  {
   "cell_type": "code",
   "execution_count": 123,
   "metadata": {
    "scrolled": true
   },
   "outputs": [],
   "source": [
    "training_df = pd.DataFrame(training_list)\n",
    "training_df.columns = [\"path\", \"target_class\",\"x_center\", \"y_center\", \"width\", \"height\"]\n",
    "training_df[\"image_path\"] = image_files\n",
    "training_df[\"resized_image_path\"] = resized_image_files\n",
    "training_df[\"image_width\"] = widths\n",
    "training_df[\"image_height\"] = heights\n",
    "\n",
    "# Update the x_center and y_center relative to their\n",
    "\n",
    "training_df[\"x_min\"] = (training_df[\"x_center\"].astype(float) - training_df[\"width\"].astype(float).multiply(0.5))*training_df[\"image_width\"]\n",
    "training_df[\"x_max\"] = (training_df[\"x_center\"].astype(float) + training_df[\"width\"].astype(float).multiply(0.5))*training_df[\"image_width\"]\n",
    "\n",
    "training_df[\"y_min\"] = (training_df[\"y_center\"].astype(float) - training_df[\"height\"].astype(float).multiply(0.5))*training_df[\"image_height\"]\n",
    "training_df[\"y_max\"] = (training_df[\"y_center\"].astype(float) + training_df[\"height\"].astype(float).multiply(0.5))*training_df[\"image_height\"]\n",
    "\n",
    "bounding_boxes = []\n",
    "\n",
    "for index, row in training_df.iterrows():\n",
    "\n",
    "    bb = np.array([round(float(row[\"x_min\"])), round(float(row[\"y_min\"])), round(float(row[\"x_max\"])), round(float(row[\"y_max\"]))])\n",
    "    bounding_boxes.append(bb)\n",
    "\n",
    "training_df[\"bbs\"] = bounding_boxes\n",
    "# training_df.head()"
   ]
  },
  {
   "cell_type": "code",
   "execution_count": 124,
   "metadata": {},
   "outputs": [
    {
     "data": {
      "text/plain": [
       "device(type='cuda')"
      ]
     },
     "execution_count": 124,
     "metadata": {},
     "output_type": "execute_result"
    }
   ],
   "source": [
    "# I have an available GPU to run this notebook in\n",
    "\n",
    "device = torch.device('cuda' if torch.cuda.is_available() else 'cpu')\n",
    "device"
   ]
  },
  {
   "cell_type": "code",
   "execution_count": 125,
   "metadata": {},
   "outputs": [],
   "source": [
    "X = training_df[[\"resized_image_path\", \"bbs\"]]\n",
    "y = training_df[\"target_class\"]\n",
    "\n",
    "num_classes = len(set(y))\n",
    "\n",
    "X_train, X_test, y_train, y_test = train_test_split(X, y, test_size=0.3, random_state=34)"
   ]
  },
  {
   "cell_type": "code",
   "execution_count": 126,
   "metadata": {},
   "outputs": [],
   "source": [
    "from torchvision import transforms\n",
    "\n",
    "normalize = transforms.Normalize(\n",
    "        mean=[0.4914, 0.4822, 0.4465],\n",
    "        std=[0.2023, 0.1994, 0.2010],\n",
    "    )\n",
    "\n",
    "train_transform = transforms.Compose([\n",
    "            transforms.Resize((img_size, img_size))\n",
    "        ])"
   ]
  },
  {
   "cell_type": "code",
   "execution_count": 127,
   "metadata": {},
   "outputs": [],
   "source": [
    "class ASLDataset(torch.utils.data.Dataset):\n",
    "    def __init__(self, image_dir, bb, img_labels, transform=None, target_transform=None):\n",
    "        self.image_dir = image_dir.values\n",
    "        self.bb = bb.values\n",
    "        self.img_labels = img_labels\n",
    "        self.transform = transform\n",
    "        self.target_transform = target_transform\n",
    "\n",
    "    def __len__(self):\n",
    "        return len(self.img_labels)\n",
    "    \n",
    "    def __getitem__(self, idx):\n",
    "\n",
    "        image = read_image(self.image_dir[idx])\n",
    "\n",
    "        label = int(self.img_labels.iloc[idx])\n",
    "        bb = self.bb[idx]\n",
    "\n",
    "        if self.transform:\n",
    "            image = self.transform(image)\n",
    "            \n",
    "        if self.target_transform:\n",
    "            label = self.target_transform(label)\n",
    "            \n",
    "        return image, label, bb\n",
    "\n",
    "    \n",
    "batch_size = 16\n",
    "\n",
    "train_ds = ASLDataset(X_train['resized_image_path'], X_train['bbs'], y_train, transform=None)\n",
    "valid_ds = ASLDataset(X_test['resized_image_path'], X_test['bbs'], y_test)\n",
    "\n",
    "train_dl = DataLoader(train_ds, batch_size=batch_size, shuffle=True)\n",
    "valid_dl = DataLoader(valid_ds, batch_size=batch_size)"
   ]
  },
  {
   "cell_type": "code",
   "execution_count": 237,
   "metadata": {},
   "outputs": [
    {
     "data": {
      "text/plain": [
       "torch.Size([3, 416, 416])"
      ]
     },
     "execution_count": 237,
     "metadata": {},
     "output_type": "execute_result"
    }
   ],
   "source": [
    "train_ds[0][0].shape"
   ]
  },
  {
   "cell_type": "code",
   "execution_count": 128,
   "metadata": {},
   "outputs": [],
   "source": [
    "def create_corner_rect(bb, color='red'):\n",
    "    bb = np.array(bb, dtype=np.float32)\n",
    "    return plt.Rectangle((bb[0], bb[1]), bb[2]-bb[0], bb[3]-bb[1], color=color, fill=False, lw=3)\n",
    "\n",
    "def show_corner_bb(im, bb):\n",
    "    plt.imshow(im)\n",
    "    plt.gca().add_patch(create_corner_rect(bb))"
   ]
  },
  {
   "cell_type": "code",
   "execution_count": 129,
   "metadata": {},
   "outputs": [],
   "source": [
    "image_index = 72\n",
    "training_df.iloc[image_index]\n",
    "bbs = training_df.iloc[image_index][\"bbs\"]"
   ]
  },
  {
   "cell_type": "markdown",
   "metadata": {},
   "source": [
    "We'll show a sample image to confirm we can read from the dataframe:"
   ]
  },
  {
   "cell_type": "code",
   "execution_count": 130,
   "metadata": {},
   "outputs": [
    {
     "data": {
      "text/plain": [
       "<matplotlib.patches.Rectangle at 0x2487bcd66d0>"
      ]
     },
     "execution_count": 130,
     "metadata": {},
     "output_type": "execute_result"
    },
    {
     "data": {
      "image/png": "[encoded data removed]",
      "text/plain": [
       "<Figure size 432x288 with 1 Axes>"
      ]
     },
     "metadata": {
      "needs_background": "light"
     },
     "output_type": "display_data"
    }
   ],
   "source": [
    "color = \"red\"\n",
    "img = cv2.imread(training_df.iloc[image_index][\"image_path\"])\n",
    "img = cv2.resize(img, (img_size, img_size))\n",
    "\n",
    "plt.imshow(img)\n",
    "plt.gca().add_patch(create_corner_rect(training_df.iloc[image_index][\"bbs\"]))"
   ]
  },
  {
   "cell_type": "code",
   "execution_count": 131,
   "metadata": {},
   "outputs": [],
   "source": [
    "# Models to choose from [resnet, alexnet, vgg, squeezenet, densenet, inception]\n",
    "model_name = \"resnet\"\n",
    "\n",
    "# Number of classes in the dataset\n",
    "num_classes = len(set(y))\n",
    "\n",
    "# Batch size for training (change depending on how much memory you have)\n",
    "batch_size = 8\n",
    "\n",
    "# Number of epochs to train for \n",
    "num_epochs = 15\n",
    "\n",
    "# Flag for feature extracting. When False, we finetune the whole model, \n",
    "#   when True we only update the reshaped layer params\n",
    "feature_extract = True"
   ]
  },
  {
   "cell_type": "code",
   "execution_count": 132,
   "metadata": {},
   "outputs": [],
   "source": [
    "def set_parameter_requires_grad(model, feature_extracting):\n",
    "    if feature_extracting:\n",
    "        for param in model.parameters():\n",
    "            param.requires_grad = False"
   ]
  },
  {
   "cell_type": "code",
   "execution_count": 141,
   "metadata": {},
   "outputs": [],
   "source": [
    "class BB(nn.Module):\n",
    "    def __init__(self):\n",
    "        super(BB, self).__init__()\n",
    "        self.resnet = models.resnet34(pretrained=True)\n",
    "        num_ftrs = self.resnet.fc.out_features\n",
    "        \n",
    "        self.classifier = nn.Linear(num_ftrs, num_classes)\n",
    "        self.bb = nn.Sequential(nn.BatchNorm1d(num_ftrs), nn.Linear(num_ftrs, 4))\n",
    "\n",
    "    def forward(self, x):\n",
    "        x = self.resnet(x)\n",
    "        # x = F.relu(x)\n",
    "        # x = x.view(x.shape[0], -1)\n",
    "        return self.classifier(x), self.bb(x)"
   ]
  },
  {
   "cell_type": "code",
   "execution_count": 142,
   "metadata": {},
   "outputs": [],
   "source": [
    "def update_optimizer(optimizer, lr):\n",
    "    for i, param_group in enumerate(optimizer.param_groups):\n",
    "        param_group[\"lr\"] = lr"
   ]
  },
  {
   "cell_type": "code",
   "execution_count": 143,
   "metadata": {},
   "outputs": [],
   "source": [
    "\n",
    "def train_epochs(model, optimizer, train_dl, val_dl, epochs=10, C=1000):\n",
    "    idx = 0\n",
    "    \n",
    "    model.cuda()\n",
    "    \n",
    "    for i in range(epochs):\n",
    "        \n",
    "        print(i)\n",
    "        \n",
    "        model.train()\n",
    "        \n",
    "        total = 0\n",
    "        sum_loss = 0\n",
    "\n",
    "        for x, y_class, y_bb in train_dl:\n",
    "            \n",
    "            x, y_class, y_bb = x.to(device), y_class.to(device), y_bb.to(device)\n",
    "        \n",
    "            batch = y_class.shape[0]\n",
    "            x = x.float()\n",
    "            y_bb = y_bb.float()\n",
    "            out_class, out_bb = model(x)\n",
    "            loss_class = F.cross_entropy(out_class, y_class, reduction=\"sum\")\n",
    "\n",
    "            loss_bb = F.l1_loss(out_bb, y_bb, reduction=\"none\").sum(1)\n",
    "            loss_bb = loss_bb.sum()\n",
    "            loss = loss_class + loss_bb/C\n",
    "            \n",
    "            optimizer.zero_grad()\n",
    "            loss.backward()\n",
    "            optimizer.step()\n",
    "            \n",
    "            idx += 1\n",
    "            total += batch\n",
    "            sum_loss += loss.item()\n",
    "            \n",
    "        train_loss = sum_loss/total\n",
    "        val_loss, val_acc = val_metrics(model, valid_dl, C)\n",
    "        if (i+1) % 10 == 0:\n",
    "            print(\"i:%4d train_loss:%5.3f val_loss:%5.3f val_acc:%5.3f\" % ((i+1), train_loss, val_loss, val_acc))\n",
    "    return sum_loss/total"
   ]
  },
  {
   "cell_type": "code",
   "execution_count": 144,
   "metadata": {},
   "outputs": [],
   "source": [
    "def val_metrics(model, valid_dl, C=1000):\n",
    "    model.eval()\n",
    "    total = 0\n",
    "    sum_loss = 0\n",
    "    correct = 0 \n",
    "    for x, y_class, y_bb in valid_dl:\n",
    "        \n",
    "        x, y_class, y_bb = x.to(device), y_class.to(device), y_bb.to(device)\n",
    "\n",
    "        batch = y_class.shape[0]\n",
    "        x = x.float()\n",
    "        y_bb = y_bb.float()\n",
    "        out_class, out_bb = model(x)\n",
    "        \n",
    "        loss_class = F.cross_entropy(out_class, y_class, reduction=\"sum\")\n",
    "        loss_bb = F.l1_loss(out_bb, y_bb, reduction=\"none\").sum(1)\n",
    "        loss_bb = loss_bb.sum()\n",
    "        loss = loss_class + loss_bb/C\n",
    "        _, pred = torch.max(out_class, 1)\n",
    "        correct += pred.eq(y_class).sum().item()\n",
    "        sum_loss += loss.item()\n",
    "        total += batch\n",
    "    return sum_loss/total, correct/total"
   ]
  },
  {
   "cell_type": "code",
   "execution_count": 145,
   "metadata": {},
   "outputs": [],
   "source": [
    "model = BB()\n",
    "parameters = filter(lambda p: p.requires_grad, model.parameters())\n",
    "optimizer = torch.optim.Adam(parameters, lr=0.002)"
   ]
  },
  {
   "cell_type": "code",
   "execution_count": 147,
   "metadata": {},
   "outputs": [],
   "source": [
    "torch.cuda.empty_cache()"
   ]
  },
  {
   "cell_type": "code",
   "execution_count": 148,
   "metadata": {
    "scrolled": true
   },
   "outputs": [
    {
     "name": "stdout",
     "output_type": "stream",
     "text": [
      "0\n",
      "1\n",
      "2\n",
      "3\n",
      "4\n",
      "5\n",
      "6\n",
      "7\n",
      "8\n",
      "9\n",
      "i:  10 train_loss:3.317 val_loss:19.477 val_acc:0.070\n",
      "10\n",
      "11\n",
      "12\n",
      "13\n",
      "14\n",
      "15\n",
      "16\n",
      "17\n",
      "18\n",
      "19\n",
      "i:  20 train_loss:3.121 val_loss:3.630 val_acc:0.108\n",
      "20\n",
      "21\n",
      "22\n",
      "23\n",
      "24\n",
      "25\n",
      "26\n",
      "27\n",
      "28\n",
      "29\n",
      "i:  30 train_loss:2.881 val_loss:3.374 val_acc:0.130\n",
      "30\n",
      "31\n",
      "32\n",
      "33\n",
      "34\n",
      "35\n",
      "36\n",
      "37\n",
      "38\n",
      "39\n",
      "i:  40 train_loss:2.087 val_loss:2.535 val_acc:0.326\n",
      "40\n",
      "41\n",
      "42\n",
      "43\n",
      "44\n",
      "45\n",
      "46\n",
      "47\n",
      "48\n",
      "49\n",
      "i:  50 train_loss:1.145 val_loss:3.616 val_acc:0.311\n",
      "50\n",
      "51\n",
      "52\n",
      "53\n",
      "54\n",
      "55\n",
      "56\n",
      "57\n",
      "58\n",
      "59\n",
      "i:  60 train_loss:0.657 val_loss:1.954 val_acc:0.579\n",
      "60\n",
      "61\n",
      "62\n",
      "63\n",
      "64\n",
      "65\n",
      "66\n",
      "67\n",
      "68\n",
      "69\n",
      "i:  70 train_loss:0.286 val_loss:1.774 val_acc:0.681\n",
      "70\n",
      "71\n",
      "72\n",
      "73\n",
      "74\n",
      "75\n",
      "76\n",
      "77\n",
      "78\n",
      "79\n",
      "i:  80 train_loss:0.117 val_loss:1.575 val_acc:0.720\n",
      "80\n",
      "81\n",
      "82\n",
      "83\n",
      "84\n",
      "85\n",
      "86\n",
      "87\n",
      "88\n",
      "89\n",
      "i:  90 train_loss:0.240 val_loss:3.971 val_acc:0.456\n",
      "90\n",
      "91\n",
      "92\n",
      "93\n",
      "94\n",
      "95\n",
      "96\n",
      "97\n",
      "98\n",
      "99\n",
      "i: 100 train_loss:0.247 val_loss:2.265 val_acc:0.630\n",
      "100\n",
      "101\n",
      "102\n",
      "103\n",
      "104\n",
      "105\n",
      "106\n",
      "107\n",
      "108\n",
      "109\n",
      "i: 110 train_loss:0.086 val_loss:1.958 val_acc:0.707\n",
      "110\n",
      "111\n",
      "112\n",
      "113\n",
      "114\n",
      "115\n",
      "116\n",
      "117\n",
      "118\n",
      "119\n",
      "i: 120 train_loss:0.067 val_loss:1.457 val_acc:0.758\n",
      "120\n",
      "121\n",
      "122\n",
      "123\n",
      "124\n",
      "125\n",
      "126\n",
      "127\n",
      "128\n",
      "129\n",
      "i: 130 train_loss:0.057 val_loss:1.358 val_acc:0.753\n",
      "130\n",
      "131\n",
      "132\n",
      "133\n",
      "134\n",
      "135\n",
      "136\n",
      "137\n",
      "138\n",
      "139\n",
      "i: 140 train_loss:0.215 val_loss:1.800 val_acc:0.670\n",
      "140\n",
      "141\n",
      "142\n",
      "143\n",
      "144\n",
      "145\n",
      "146\n",
      "147\n",
      "148\n",
      "149\n",
      "i: 150 train_loss:0.180 val_loss:1.803 val_acc:0.689\n",
      "150\n",
      "151\n",
      "152\n",
      "153\n",
      "154\n",
      "155\n",
      "156\n",
      "157\n",
      "158\n",
      "159\n",
      "i: 160 train_loss:0.056 val_loss:1.195 val_acc:0.773\n",
      "160\n",
      "161\n",
      "162\n",
      "163\n",
      "164\n",
      "165\n",
      "166\n",
      "167\n",
      "168\n",
      "169\n",
      "i: 170 train_loss:0.142 val_loss:1.884 val_acc:0.685\n",
      "170\n",
      "171\n",
      "172\n",
      "173\n",
      "174\n",
      "175\n",
      "176\n",
      "177\n",
      "178\n",
      "179\n",
      "i: 180 train_loss:0.051 val_loss:1.345 val_acc:0.762\n",
      "180\n",
      "181\n",
      "182\n",
      "183\n",
      "184\n",
      "185\n",
      "186\n",
      "187\n",
      "188\n",
      "189\n",
      "i: 190 train_loss:0.052 val_loss:1.327 val_acc:0.764\n",
      "190\n",
      "191\n",
      "192\n",
      "193\n",
      "194\n",
      "195\n",
      "196\n",
      "197\n",
      "198\n",
      "199\n",
      "i: 200 train_loss:0.051 val_loss:1.477 val_acc:0.764\n",
      "200\n",
      "201\n",
      "202\n",
      "203\n",
      "204\n",
      "205\n",
      "206\n",
      "207\n",
      "208\n",
      "209\n",
      "i: 210 train_loss:0.055 val_loss:1.352 val_acc:0.747\n",
      "210\n",
      "211\n",
      "212\n",
      "213\n",
      "214\n",
      "215\n",
      "216\n",
      "217\n",
      "218\n",
      "219\n",
      "i: 220 train_loss:0.051 val_loss:1.291 val_acc:0.744\n",
      "220\n",
      "221\n",
      "222\n",
      "223\n",
      "224\n",
      "225\n",
      "226\n",
      "227\n",
      "228\n",
      "229\n",
      "i: 230 train_loss:0.058 val_loss:1.411 val_acc:0.760\n",
      "230\n",
      "231\n",
      "232\n",
      "233\n",
      "234\n",
      "235\n",
      "236\n",
      "237\n",
      "238\n",
      "239\n",
      "i: 240 train_loss:0.054 val_loss:1.521 val_acc:0.742\n",
      "240\n",
      "241\n",
      "242\n",
      "243\n",
      "244\n",
      "245\n",
      "246\n",
      "247\n",
      "248\n",
      "249\n",
      "i: 250 train_loss:0.309 val_loss:4.353 val_acc:0.463\n",
      "250\n",
      "251\n",
      "252\n",
      "253\n",
      "254\n",
      "255\n",
      "256\n",
      "257\n",
      "258\n",
      "259\n",
      "i: 260 train_loss:0.054 val_loss:1.438 val_acc:0.727\n",
      "260\n",
      "261\n",
      "262\n",
      "263\n",
      "264\n",
      "265\n",
      "266\n",
      "267\n",
      "268\n",
      "269\n",
      "i: 270 train_loss:0.051 val_loss:1.394 val_acc:0.749\n",
      "270\n",
      "271\n",
      "272\n",
      "273\n",
      "274\n",
      "275\n",
      "276\n",
      "277\n",
      "278\n",
      "279\n",
      "i: 280 train_loss:0.080 val_loss:2.008 val_acc:0.716\n",
      "280\n",
      "281\n",
      "282\n",
      "283\n",
      "284\n",
      "285\n",
      "286\n",
      "287\n",
      "288\n",
      "289\n",
      "i: 290 train_loss:0.054 val_loss:1.570 val_acc:0.778\n",
      "290\n",
      "291\n",
      "292\n",
      "293\n",
      "294\n",
      "295\n",
      "296\n",
      "297\n",
      "298\n",
      "299\n",
      "i: 300 train_loss:0.103 val_loss:3.429 val_acc:0.491\n",
      "300\n",
      "301\n",
      "302\n",
      "303\n",
      "304\n",
      "305\n",
      "306\n",
      "307\n",
      "308\n",
      "309\n",
      "i: 310 train_loss:0.054 val_loss:1.780 val_acc:0.747\n",
      "310\n",
      "311\n",
      "312\n",
      "313\n",
      "314\n",
      "315\n",
      "316\n",
      "317\n",
      "318\n",
      "319\n",
      "i: 320 train_loss:0.051 val_loss:1.794 val_acc:0.756\n",
      "320\n",
      "321\n",
      "322\n",
      "323\n",
      "324\n",
      "325\n",
      "326\n",
      "327\n",
      "328\n",
      "329\n",
      "i: 330 train_loss:0.056 val_loss:1.796 val_acc:0.738\n",
      "330\n",
      "331\n",
      "332\n",
      "333\n",
      "334\n",
      "335\n",
      "336\n",
      "337\n",
      "338\n",
      "339\n",
      "i: 340 train_loss:0.053 val_loss:1.696 val_acc:0.756\n",
      "340\n",
      "341\n",
      "342\n",
      "343\n",
      "344\n",
      "345\n",
      "346\n",
      "347\n",
      "348\n",
      "349\n",
      "i: 350 train_loss:0.050 val_loss:1.646 val_acc:0.769\n",
      "350\n",
      "351\n",
      "352\n",
      "353\n",
      "354\n",
      "355\n",
      "356\n",
      "357\n",
      "358\n",
      "359\n",
      "i: 360 train_loss:0.049 val_loss:1.823 val_acc:0.744\n",
      "360\n",
      "361\n",
      "362\n",
      "363\n",
      "364\n",
      "365\n",
      "366\n",
      "367\n",
      "368\n",
      "369\n",
      "i: 370 train_loss:0.049 val_loss:1.640 val_acc:0.758\n",
      "370\n",
      "371\n",
      "372\n",
      "373\n",
      "374\n",
      "375\n",
      "376\n",
      "377\n",
      "378\n",
      "379\n",
      "i: 380 train_loss:0.053 val_loss:1.504 val_acc:0.771\n",
      "380\n",
      "381\n",
      "382\n",
      "383\n",
      "384\n",
      "385\n",
      "386\n",
      "387\n",
      "388\n",
      "389\n",
      "i: 390 train_loss:0.113 val_loss:1.731 val_acc:0.740\n",
      "390\n",
      "391\n",
      "392\n",
      "393\n",
      "394\n",
      "395\n",
      "396\n",
      "397\n",
      "398\n",
      "399\n",
      "i: 400 train_loss:0.049 val_loss:1.616 val_acc:0.767\n",
      "400\n",
      "401\n",
      "402\n",
      "403\n",
      "404\n",
      "405\n",
      "406\n",
      "407\n",
      "408\n",
      "409\n",
      "i: 410 train_loss:0.090 val_loss:1.991 val_acc:0.738\n",
      "410\n",
      "411\n",
      "412\n",
      "413\n",
      "414\n",
      "415\n",
      "416\n",
      "417\n",
      "418\n",
      "419\n",
      "i: 420 train_loss:0.088 val_loss:2.794 val_acc:0.703\n",
      "420\n",
      "421\n",
      "422\n",
      "423\n",
      "424\n",
      "425\n",
      "426\n",
      "427\n",
      "428\n",
      "429\n",
      "i: 430 train_loss:0.111 val_loss:3.856 val_acc:0.615\n",
      "430\n",
      "431\n",
      "432\n",
      "433\n",
      "434\n",
      "435\n",
      "436\n",
      "437\n",
      "438\n",
      "439\n",
      "i: 440 train_loss:0.051 val_loss:1.948 val_acc:0.731\n",
      "440\n",
      "441\n",
      "442\n",
      "443\n",
      "444\n",
      "445\n",
      "446\n",
      "447\n",
      "448\n",
      "449\n",
      "i: 450 train_loss:0.054 val_loss:1.944 val_acc:0.742\n",
      "450\n",
      "451\n",
      "452\n",
      "453\n",
      "454\n",
      "455\n",
      "456\n",
      "457\n",
      "458\n",
      "459\n",
      "i: 460 train_loss:0.050 val_loss:1.668 val_acc:0.771\n",
      "460\n",
      "461\n",
      "462\n",
      "463\n",
      "464\n",
      "465\n",
      "466\n",
      "467\n",
      "468\n",
      "469\n",
      "i: 470 train_loss:0.047 val_loss:1.795 val_acc:0.764\n",
      "470\n",
      "471\n",
      "472\n",
      "473\n",
      "474\n",
      "475\n",
      "476\n",
      "477\n",
      "478\n",
      "479\n",
      "i: 480 train_loss:0.048 val_loss:1.691 val_acc:0.769\n",
      "480\n",
      "481\n",
      "482\n",
      "483\n",
      "484\n",
      "485\n",
      "486\n",
      "487\n",
      "488\n",
      "489\n",
      "i: 490 train_loss:0.111 val_loss:2.234 val_acc:0.703\n",
      "490\n",
      "491\n",
      "492\n",
      "493\n",
      "494\n",
      "495\n",
      "496\n",
      "497\n",
      "498\n",
      "499\n",
      "i: 500 train_loss:0.266 val_loss:2.404 val_acc:0.665\n"
     ]
    },
    {
     "data": {
      "text/plain": [
       "0.2658227194234419"
      ]
     },
     "execution_count": 148,
     "metadata": {},
     "output_type": "execute_result"
    }
   ],
   "source": [
    "train_epochs(model, optimizer, train_dl, valid_dl, epochs=500)"
   ]
  },
  {
   "cell_type": "markdown",
   "metadata": {},
   "source": [
    "### Prediction"
   ]
  },
  {
   "cell_type": "code",
   "execution_count": 340,
   "metadata": {},
   "outputs": [],
   "source": [
    "# Change this to see different predictions\n",
    "predict_idx = 2"
   ]
  },
  {
   "cell_type": "code",
   "execution_count": 341,
   "metadata": {},
   "outputs": [],
   "source": [
    "x_image_sample, x_bb_sample = X_test.iloc[predict_idx]"
   ]
  },
  {
   "cell_type": "code",
   "execution_count": 342,
   "metadata": {},
   "outputs": [],
   "source": [
    "y_sample = y_test.iloc[predict_idx]"
   ]
  },
  {
   "cell_type": "code",
   "execution_count": 344,
   "metadata": {},
   "outputs": [],
   "source": [
    "img = cv2.imread(x_image_sample)\n",
    "\n",
    "xx = torch.cuda.FloatTensor(img[None,])"
   ]
  },
  {
   "cell_type": "code",
   "execution_count": 345,
   "metadata": {},
   "outputs": [],
   "source": [
    "x_transformed = xx.view(1, 3, 416, 416)"
   ]
  },
  {
   "cell_type": "code",
   "execution_count": 346,
   "metadata": {},
   "outputs": [
    {
     "data": {
      "text/plain": [
       "(tensor([[-13.7968, -10.2428,  -3.1530,   6.0009, -11.1677,   2.1090,  -4.8279,\n",
       "            1.0778,  -2.7403,  -6.5672,  10.8627,   6.6547,  -3.6329,  -8.7356,\n",
       "            4.0529,  20.0981,  11.0002,  12.1051,  -6.4055, -16.0268,   4.2346,\n",
       "           -5.5695,  -3.5305,   2.5369, -15.1724,   7.1301]], device='cuda:0',\n",
       "        grad_fn=<AddmmBackward>),\n",
       " tensor([[ 62.5023,   0.5563, 328.6720, 357.8802]], device='cuda:0',\n",
       "        grad_fn=<AddmmBackward>))"
      ]
     },
     "execution_count": 346,
     "metadata": {},
     "output_type": "execute_result"
    }
   ],
   "source": [
    "out_class, out_bb = model(x_transformed)"
   ]
  },
  {
   "cell_type": "code",
   "execution_count": 347,
   "metadata": {},
   "outputs": [
    {
     "data": {
      "image/png": "[encoded data removed]",
      "text/plain": [
       "<Figure size 432x288 with 1 Axes>"
      ]
     },
     "metadata": {
      "needs_background": "light"
     },
     "output_type": "display_data"
    }
   ],
   "source": [
    "bb_hat = out_bb.detach().cpu().numpy()\n",
    "bb_hat = bb_hat.astype(int)\n",
    "show_corner_bb(img, bb_hat[0])"
   ]
  },
  {
   "cell_type": "code",
   "execution_count": 348,
   "metadata": {},
   "outputs": [
    {
     "data": {
      "text/plain": [
       "tensor([[-13.7968, -10.2428,  -3.1530,   6.0009, -11.1677,   2.1090,  -4.8279,\n",
       "           1.0778,  -2.7403,  -6.5672,  10.8627,   6.6547,  -3.6329,  -8.7356,\n",
       "           4.0529,  20.0981,  11.0002,  12.1051,  -6.4055, -16.0268,   4.2346,\n",
       "          -5.5695,  -3.5305,   2.5369, -15.1724,   7.1301]], device='cuda:0',\n",
       "       grad_fn=<AddmmBackward>)"
      ]
     },
     "execution_count": 348,
     "metadata": {},
     "output_type": "execute_result"
    }
   ],
   "source": [
    "out_class"
   ]
  },
  {
   "cell_type": "code",
   "execution_count": 349,
   "metadata": {},
   "outputs": [],
   "source": [
    "def softmax(x):\n",
    "    assert len(x.shape) == 2\n",
    "    s = np.max(x, axis=1)\n",
    "    s = s[:, np.newaxis] # necessary step to do broadcasting\n",
    "    e_x = np.exp(x - s)\n",
    "    div = np.sum(e_x, axis=1)\n",
    "    div = div[:, np.newaxis]\n",
    "    return e_x / div"
   ]
  },
  {
   "cell_type": "code",
   "execution_count": 350,
   "metadata": {},
   "outputs": [
    {
     "data": {
      "text/plain": [
       "15"
      ]
     },
     "execution_count": 350,
     "metadata": {},
     "output_type": "execute_result"
    }
   ],
   "source": [
    "norm_max = softmax(out_class.cpu().detach().numpy())\n",
    "predicted_class = np.array(norm_max).argmax()\n",
    "predicted_class"
   ]
  },
  {
   "cell_type": "code",
   "execution_count": 351,
   "metadata": {},
   "outputs": [
    {
     "data": {
      "text/plain": [
       "603    9\n",
       "Name: target_class, dtype: object"
      ]
     },
     "execution_count": 351,
     "metadata": {},
     "output_type": "execute_result"
    }
   ],
   "source": [
    "actual_class = y_test.iloc[[predict_idx]]\n",
    "actual_class"
   ]
  }
 ],
 "metadata": {
  "kernelspec": {
   "display_name": "Python 3",
   "language": "python",
   "name": "python3"
  },
  "language_info": {
   "codemirror_mode": {
    "name": "ipython",
    "version": 3
   },
   "file_extension": ".py",
   "mimetype": "text/x-python",
   "name": "python",
   "nbconvert_exporter": "python",
   "pygments_lexer": "ipython3",
   "version": "3.8.8"
  }
 },
 "nbformat": 4,
 "nbformat_minor": 4
}
